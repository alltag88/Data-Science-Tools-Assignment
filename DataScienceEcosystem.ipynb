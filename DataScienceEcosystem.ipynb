{
 "cells": [
  {
   "cell_type": "markdown",
   "id": "29e73665",
   "metadata": {},
   "source": [
    "# Data Science Tools and Ecosystem"
   ]
  },
  {
   "cell_type": "markdown",
   "id": "51df61f2",
   "metadata": {},
   "source": [
    "In this notebook, Data Science Tools and Ecosystem are summarized."
   ]
  },
  {
   "cell_type": "markdown",
   "id": "9c91e489",
   "metadata": {},
   "source": [
    "**Objectives:**\n",
    "\n",
    "- List popular languages for Data Science\n",
    "- List commonly used libraries used by Data Scientist\n",
    "- List some Data Science Tools for development environments\n",
    "- Show few examples of evaluating arithmetic expressions in Python \n"
   ]
  },
  {
   "cell_type": "markdown",
   "id": "2c6ec9d2",
   "metadata": {},
   "source": [
    "Some of the popular languages that Data Scientists use are:\n",
    "\n",
    "1. Python\n",
    "2. R\n",
    "3. SQL\n",
    "4. Julia\n",
    "5. Scala\n",
    "6. Java\n",
    "7. C++"
   ]
  },
  {
   "attachments": {},
   "cell_type": "markdown",
   "id": "7838445b",
   "metadata": {},
   "source": [
    "Some of the commonly used libraries used by Data Scientists include:\n",
    "\n",
    "###### Python Libraries\n",
    "\n",
    "1. Scientific computing libraries (Pandas / Numpy)\n",
    "2. Visualization libraries (Matplotlib / Seaborn)\n",
    "3. Machine Learning libraries (Scikit-learn / Keras)\n",
    "4. Deep Learning libraries (Tensorflow / Pytorch)\n",
    "\n",
    "\n",
    "###### Libraries used in other languages\n",
    "\n",
    "1. Apache Spark (Can be executed in Python, R, Scala, SQL)\n",
    "2. Scala Libraries (Vegas / Big DL)\n",
    "3. R Libraries (Ggplot / Keras / Tensorflow)\n"
   ]
  },
  {
   "cell_type": "markdown",
   "id": "4f8aced1",
   "metadata": {},
   "source": [
    "\n",
    "| Data Science Tools |\n",
    "| -------------|\n",
    "| IBM Watson Studio Desktop | \n",
    "| H2O Driverless AI | \n",
    "| Watson Open Scale | \n"
   ]
  },
  {
   "cell_type": "markdown",
   "id": "2cc5011c",
   "metadata": {},
   "source": [
    "### Below are a few examples of evaluating arithmetic expressions in Python"
   ]
  },
  {
   "cell_type": "code",
   "execution_count": 4,
   "id": "edf53978",
   "metadata": {},
   "outputs": [
    {
     "name": "stdout",
     "output_type": "stream",
     "text": [
      "17\n"
     ]
    }
   ],
   "source": [
    "print((3*4)+5) #This a simple arithmetic expression to mutiply then add integers"
   ]
  },
  {
   "cell_type": "code",
   "execution_count": 5,
   "id": "754959c3",
   "metadata": {},
   "outputs": [
    {
     "name": "stdout",
     "output_type": "stream",
     "text": [
      "3.3333333333333335\n"
     ]
    }
   ],
   "source": [
    "print(200/60) #This will convert 200 minutes to hours by dividing by 60"
   ]
  },
  {
   "cell_type": "markdown",
   "id": "c02bbf78",
   "metadata": {},
   "source": [
    "## Author\n",
    "Rosalba Cardona\n"
   ]
  },
  {
   "cell_type": "code",
   "execution_count": null,
   "id": "a1160b05",
   "metadata": {},
   "outputs": [],
   "source": []
  }
 ],
 "metadata": {
  "kernelspec": {
   "display_name": "Python 3 (ipykernel)",
   "language": "python",
   "name": "python3"
  },
  "language_info": {
   "codemirror_mode": {
    "name": "ipython",
    "version": 3
   },
   "file_extension": ".py",
   "mimetype": "text/x-python",
   "name": "python",
   "nbconvert_exporter": "python",
   "pygments_lexer": "ipython3",
   "version": "3.8.18"
  }
 },
 "nbformat": 4,
 "nbformat_minor": 5
}
